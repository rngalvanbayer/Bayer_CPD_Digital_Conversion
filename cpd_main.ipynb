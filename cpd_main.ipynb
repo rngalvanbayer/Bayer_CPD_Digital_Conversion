{
 "cells": [
  {
   "cell_type": "code",
   "execution_count": 1,
   "metadata": {},
   "outputs": [],
   "source": [
    "import pandas as pd\n",
    "import numpy as np\n",
    "from sklearn import preprocessing\n",
    "import matplotlib.pyplot as plt \n",
    "plt.rc(\"font\", size=14)\n",
    "from sklearn.linear_model import LogisticRegression\n",
    "from sklearn.model_selection import train_test_split\n",
    "import seaborn as sns\n",
    "sns.set(style=\"white\")\n",
    "sns.set(style=\"whitegrid\", color_codes=True)"
   ]
  },
  {
   "cell_type": "code",
   "execution_count": 8,
   "metadata": {},
   "outputs": [
    {
     "name": "stdout",
     "output_type": "stream",
     "text": [
      "(650, 73)\n",
      "['Timestamp', 'Study ID No.', '6. How old are you? ', '7. What is your current job?', 'job type', 'What level? ', '8. What is your highest educational attainment? ', 'educ', '9. Sex ', 'female', '10. Gender Identification ', 'genderid', '11. Location (Region) ', 'loc', '12. What device(s) are you using to access the social media?', 'devices', 'devices2', '13. What led you in visiting the page? (Choose one)', 'purpose page', '14. What is your priority reproductive health need right now? ', 'perceived rh needs', '15. What do you think are the benefits of using family planning?', 'benefitnum1', 'benefitnum', '16. What platform(s) did you visit? ', 'platforms1', 'platforms', '17. How often do you visit Family Planning and Reproductive Health social media contents? ', 'oftenvisit', '18. How did you learn about CPD and Usap Tayo sa Family Planning FB pages? ', 'learnpage1', 'learnpage', '19. What type of post were you able to like in terms of contents? (multiple entries)', 'contents1', 'contents', '20. What type of post were you able to like in terms of visuals/audio? (multiple entries)', 'visuals', '21. Are you aware of the hotline embedded in the page? ', '22. Will the information you saw on this Facebook page help you decide on your use of contraception? ', '23. Yes, I will consider the use of contraception \\n\\n*Natural (abstinence, withdrawal, calendar method, etc.)\\n*Modern (oral pills, condoms, injectables, IUD, implant, ligation, vasectomy, etc.)', '23. Yes it is helpful, but I do not consider using contraception now because: ', '23. No, because: ', '24. How likely are you to recommend the information to your friends/peers? ', 'Email address', 'match', 'Timestamp2', 'Email address ', 'What is your civil status? ', 'civil', 'In the past three months, were you able to visit other social media sites/pages related to Family Planning and Reproductive Health? ', 'social', 'What social media platforms? ', 'Were you able to utilize and contact the hotline embedded in the page? ', 'hotline', 'Have you visited a facility for family planning consultation/counselling? ', 'conversion1', 'What facility? ', 'Who provided the consultation/counselling? ', 'Were you able to avail commodity/services? ', 'conversion2', 'What method/commodity services have you taken? And where? \\n\\n*Natural (abstinence, withdrawal, calendar method, etc.)\\n*Modern Method (oral pills, injectables, condoms, IUD, implant, vasectomy, etc.)', 'conversion3', 'Type of modern method ', 'What type of services/procedures? ', 'Commodity ', 'Where? ', 'Where? .1', 'If no, what is the reason for not availing? ', 'If no, why did you not visit a facility? ', 'How likely are you to continue the use of your chosen method? ', 'How satisfied are you regarding your chosen method? ', 'Did you find the digital platform helpful to your family planning journey?', 'Which Facebook page largely contributed to address your Family Planning and Reproductive Health needs? ']\n"
     ]
    }
   ],
   "source": [
    "xl = pd.ExcelFile(\"cpd merged final v1.xlsx\")\n",
    "data = xl.parse(\"cpd merged final\")\n",
    "data = data.drop(columns=['4. '])\n",
    "print(data.shape)\n",
    "print(list(data.columns))"
   ]
  },
  {
   "cell_type": "code",
   "execution_count": 12,
   "metadata": {},
   "outputs": [
    {
     "data": {
      "text/plain": [
       "518"
      ]
     },
     "execution_count": 12,
     "metadata": {},
     "output_type": "execute_result"
    }
   ],
   "source": [
    "data = data.dropna(subset='conversion1')\n",
    "data['conversion1'].unique()\n",
    "len(data)"
   ]
  },
  {
   "cell_type": "code",
   "execution_count": 13,
   "metadata": {},
   "outputs": [
    {
     "data": {
      "text/plain": [
       "conversion1\n",
       "1.0    401\n",
       "0.0    117\n",
       "Name: count, dtype: int64"
      ]
     },
     "execution_count": 13,
     "metadata": {},
     "output_type": "execute_result"
    }
   ],
   "source": [
    "data['conversion1'].value_counts()"
   ]
  },
  {
   "cell_type": "code",
   "execution_count": 16,
   "metadata": {},
   "outputs": [
    {
     "name": "stderr",
     "output_type": "stream",
     "text": [
      "C:\\Users\\golem\\AppData\\Local\\Temp\\ipykernel_22644\\1917166494.py:1: FutureWarning: \n",
      "\n",
      "Passing `palette` without assigning `hue` is deprecated and will be removed in v0.14.0. Assign the `x` variable to `hue` and set `legend=False` for the same effect.\n",
      "\n",
      "  sns.countplot(x='conversion1', data=data, palette='hls')\n"
     ]
    },
    {
     "data": {
      "image/png": "[encoded data removed]",
      "text/plain": [
       "<Figure size 640x480 with 1 Axes>"
      ]
     },
     "metadata": {},
     "output_type": "display_data"
    },
    {
     "data": {
      "text/plain": [
       "<Figure size 640x480 with 0 Axes>"
      ]
     },
     "metadata": {},
     "output_type": "display_data"
    }
   ],
   "source": [
    "sns.countplot(x='conversion1', data=data, palette='hls')\n",
    "plt.show()\n",
    "plt.savefig('count_plot')"
   ]
  },
  {
   "cell_type": "code",
   "execution_count": null,
   "metadata": {},
   "outputs": [],
   "source": []
  }
 ],
 "metadata": {
  "kernelspec": {
   "display_name": "Python 3",
   "language": "python",
   "name": "python3"
  },
  "language_info": {
   "codemirror_mode": {
    "name": "ipython",
    "version": 3
   },
   "file_extension": ".py",
   "mimetype": "text/x-python",
   "name": "python",
   "nbconvert_exporter": "python",
   "pygments_lexer": "ipython3",
   "version": "3.12.7"
  }
 },
 "nbformat": 4,
 "nbformat_minor": 2
}
